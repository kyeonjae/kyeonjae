{
 "cells": [
  {
   "cell_type": "code",
   "execution_count": 1,
   "metadata": {},
   "outputs": [
    {
     "name": "stdout",
     "output_type": "stream",
     "text": [
      "WARNING:tensorflow:From c:\\Anaconda3\\envs\\py38cuda112\\lib\\site-packages\\tensorflow\\python\\compat\\v2_compat.py:101: disable_resource_variables (from tensorflow.python.ops.variable_scope) is deprecated and will be removed in a future version.\n",
      "Instructions for updating:\n",
      "non-resource variables are not supported in the long term\n"
     ]
    },
    {
     "data": {
      "text/plain": [
       "[name: \"/device:CPU:0\"\n",
       " device_type: \"CPU\"\n",
       " memory_limit: 268435456\n",
       " locality {\n",
       " }\n",
       " incarnation: 5279323833130398165,\n",
       " name: \"/device:GPU:0\"\n",
       " device_type: \"GPU\"\n",
       " memory_limit: 5717884928\n",
       " locality {\n",
       "   bus_id: 1\n",
       "   links {\n",
       "   }\n",
       " }\n",
       " incarnation: 13052915710802039969\n",
       " physical_device_desc: \"device: 0, name: NVIDIA GeForce RTX 3070, pci bus id: 0000:01:00.0, compute capability: 8.6\"]"
      ]
     },
     "execution_count": 1,
     "metadata": {},
     "output_type": "execute_result"
    }
   ],
   "source": [
    "import model\n",
    "import tensorflow.compat.v1 as tf\n",
    "tf.disable_v2_behavior()\n",
    "\n",
    "import DataLoader2\n",
    "import tqdm\n",
    "import matplotlib.pyplot as plt\n",
    "import numpy as np\n",
    "import os\n",
    "\n",
    "import sklearn.metrics as metrics\n",
    "from sklearn.metrics import roc_curve, roc_auc_score\n",
    "\n",
    "from tensorflow.python.client import device_lib\n",
    "device_lib.list_local_devices()"
   ]
  },
  {
   "cell_type": "code",
   "execution_count": 2,
   "metadata": {},
   "outputs": [],
   "source": [
    "def createDir(path):\n",
    "    try:\n",
    "        if not os.path.exists(path):\n",
    "            os.makedirs(path)\n",
    "    except OSError:\n",
    "        print(\"[ERROR] Failed to create the directory.\")"
   ]
  },
  {
   "cell_type": "code",
   "execution_count": 3,
   "metadata": {},
   "outputs": [],
   "source": [
    "class Reduce_InC_Res(tf.Module):\n",
    "    def __init__(self, x_w, x_h, y__dim, batch_size):\n",
    "        super().__init__()\n",
    "        self.x_w = x_w\n",
    "        self.x_h = x_h\n",
    "        self.x_dim = x_w + x_h\n",
    "        self.y__dim = y__dim\n",
    "        self.x = tf.placeholder(tf.float32, shape=[None, x_w, x_h])\n",
    "        self.y_ = tf.placeholder(tf.float32, shape=[None, y__dim])\n",
    "\n",
    "        # keep parameter\n",
    "        self.keep_prob = 0\n",
    "        self.y_out = 0\n",
    "        self.cross_entropy = 0\n",
    "        self.batch_size = batch_size\n",
    "\n",
    "\n",
    "    def __call__(self):\n",
    "        stem = model.Stem()(self.x, self.x_w, self.x_h, self.y__dim)\n",
    "        inc_res_A = model.Inception_resnet_A()(stem)\n",
    "        red_A = model.Reduction_A()(inc_res_A)\n",
    "        inc_res_B = model.Inception_resnet_B()(red_A)\n",
    "        red_B = model.Reduction_B()(inc_res_B)\n",
    "\n",
    "        # Average Pooling\n",
    "        h_avg_pool = model.avg_pool(red_B)\n",
    "        h_pool_flat = tf.reshape(h_avg_pool, [-1, 896])\n",
    "\n",
    "        # Drop Out\n",
    "        self.keep_prob = tf.placeholder(tf.float32)\n",
    "        h_pool_drop = tf.nn.dropout(h_pool_flat, self.keep_prob)\n",
    "\n",
    "        # Readout Layer\n",
    "        W_out = model.weight_variable([896, 2])\n",
    "        b_out = model.bias_variable([2])\n",
    "        self.y_out = tf.matmul(h_pool_drop, W_out) + b_out\n",
    "\n",
    "        # SoftMax\n",
    "        # Loss Function\n",
    "        self.y_ = tf.placeholder(tf.float32, shape=[None, self.y__dim])\n",
    "        self.cross_entropy = tf.reduce_mean(tf.nn.softmax_cross_entropy_with_logits(logits=self.y_out,labels=self.y_))\n",
    "\n",
    "    def test_realtime(self, model_name, test_x):\n",
    "            y_pred = np.empty(shape=(0,0))\n",
    "            y_p = tf.argmax(self.y_out,1)\n",
    "            \n",
    "            saver = tf.train.Saver()\n",
    "            sess = tf.Session()\n",
    "            \n",
    "            ## model 불러오는 부분\n",
    "            saver.restore(sess, '../model/model_1205/can_data_train/model_'+model_name)\n",
    "                        \n",
    "            feed_dict = {self.x: test_x, self.keep_prob:1.0}\n",
    "            y_pred = np.append(y_pred, sess.run([y_p], feed_dict=feed_dict))\n",
    "            y_pred = y_pred.astype(int)\n",
    "\n"
   ]
  },
  {
   "cell_type": "code",
   "execution_count": 4,
   "metadata": {},
   "outputs": [],
   "source": [
    "def preprocessing(data_l):\n",
    "    test_x = []\n",
    "    for data in data_l:\n",
    "        data = data.zfill(7)\n",
    "        data = '1'+str(data)\n",
    "        data = bin(int(data, 16))[3:]\n",
    "        data = ['0']+list(data)\n",
    "        test_x.append(data)\n",
    "        \n",
    "    test_x = np.array(test_x, dtype='float32')\n",
    "    \n",
    "    return test_x.reshape(1,29,29)"
   ]
  },
  {
   "cell_type": "code",
   "execution_count": 5,
   "metadata": {},
   "outputs": [
    {
     "name": "stdout",
     "output_type": "stream",
     "text": [
      "Stem_h_conv5_type: <class 'tensorflow.python.framework.ops.Tensor'>\n",
      "WARNING:tensorflow:From c:\\Anaconda3\\envs\\py38cuda112\\lib\\site-packages\\tensorflow\\python\\util\\dispatch.py:206: calling dropout (from tensorflow.python.ops.nn_ops) with keep_prob is deprecated and will be removed in a future version.\n",
      "Instructions for updating:\n",
      "Please use `rate` instead of `keep_prob`. Rate should be set to `rate = 1 - keep_prob`.\n",
      "WARNING:tensorflow:From c:\\Anaconda3\\envs\\py38cuda112\\lib\\site-packages\\tensorflow\\python\\util\\dispatch.py:206: softmax_cross_entropy_with_logits (from tensorflow.python.ops.nn_ops) is deprecated and will be removed in a future version.\n",
      "Instructions for updating:\n",
      "\n",
      "Future major versions of TensorFlow will allow gradients to flow\n",
      "into the labels input on backprop by default.\n",
      "\n",
      "See `tf.nn.softmax_cross_entropy_with_logits_v2`.\n",
      "\n"
     ]
    }
   ],
   "source": [
    "res = Reduce_InC_Res(29, 29, 2, 1)\n",
    "res()"
   ]
  },
  {
   "cell_type": "code",
   "execution_count": 8,
   "metadata": {},
   "outputs": [],
   "source": [
    "# que나 list에서 29개만 get\n",
    "\n",
    "data_l = ['260', '329', '38D', '420', '421', '153', '20', '340',\n",
    "        '389', '47F', '30', '140', '251', '2B0', '164','356',\n",
    "        '366', '367', '368', '381', '387', '394', '453', '470', \n",
    "        '490', '495', '500', '260', '391']\n",
    "\n",
    "data2_l = ['123', '123', '123', '123', '123', '123', '123', '123',\n",
    "        '123', '123', '123', '123', '123', '123', '123','123',\n",
    "        '123', '123', '123', '123', '123', '123', '123', '123', \n",
    "        '123', '123', '123', '123', '123']\n",
    "\n",
    "test_x = preprocessing(data2_l)"
   ]
  },
  {
   "cell_type": "code",
   "execution_count": 9,
   "metadata": {},
   "outputs": [
    {
     "name": "stdout",
     "output_type": "stream",
     "text": [
      "INFO:tensorflow:Restoring parameters from ../model/model_1205/can_data_train/model_can_data_train\n",
      "[***] []\n",
      "[***] [1.]\n",
      "[1]\n"
     ]
    }
   ],
   "source": [
    "## 'carhackingattack' -> 사용할 모델 name\n",
    "## test_x -> 데이터 x 값\n",
    "\n",
    "res.test_realtime('can_data_train', test_x)"
   ]
  },
  {
   "cell_type": "code",
   "execution_count": null,
   "metadata": {},
   "outputs": [],
   "source": []
  }
 ],
 "metadata": {
  "kernelspec": {
   "display_name": "venv",
   "language": "python",
   "name": "python3"
  },
  "language_info": {
   "codemirror_mode": {
    "name": "ipython",
    "version": 3
   },
   "file_extension": ".py",
   "mimetype": "text/x-python",
   "name": "python",
   "nbconvert_exporter": "python",
   "pygments_lexer": "ipython3",
   "version": "3.8.13"
  }
 },
 "nbformat": 4,
 "nbformat_minor": 0
}
